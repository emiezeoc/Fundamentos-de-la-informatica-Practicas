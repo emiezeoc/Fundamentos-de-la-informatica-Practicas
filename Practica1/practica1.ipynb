{
 "cells": [
  {
   "cell_type": "markdown",
   "metadata": {},
   "source": [
    "Ejercicio 10: Ejecute las siguientes instrucciones:\n",
    "\n",
    "1. print (“hola Fundamentos”)\n",
    "2. print (2 + 3)\n",
    "3. print (“2” + ”3”)\n",
    "4. print (2* (3+5))\n",
    "5. print (2 * 3 + 5)\n",
    "6. print (3 * ”Hola”)\n",
    "7. print (“Hola” * 3)\n",
    "8. PRINT (“hola”)\n",
    "9. print (hola)\n",
    "\n"
   ]
  },
  {
   "cell_type": "code",
   "execution_count": 16,
   "metadata": {},
   "outputs": [
    {
     "name": "stdout",
     "output_type": "stream",
     "text": [
      "Hola fundamentos\n",
      "5\n",
      "23\n",
      "16\n",
      "11\n",
      "holaholahola\n",
      "HolaHolaHola\n"
     ]
    },
    {
     "ename": "NameError",
     "evalue": "name 'PRINT' is not defined",
     "output_type": "error",
     "traceback": [
      "\u001b[1;31m---------------------------------------------------------------------------\u001b[0m",
      "\u001b[1;31mNameError\u001b[0m                                 Traceback (most recent call last)",
      "Cell \u001b[1;32mIn[16], line 8\u001b[0m\n\u001b[0;32m      6\u001b[0m \u001b[38;5;28mprint\u001b[39m(\u001b[38;5;241m3\u001b[39m \u001b[38;5;241m*\u001b[39m \u001b[38;5;124m\"\u001b[39m\u001b[38;5;124mhola\u001b[39m\u001b[38;5;124m\"\u001b[39m)\n\u001b[0;32m      7\u001b[0m \u001b[38;5;28mprint\u001b[39m(\u001b[38;5;124m\"\u001b[39m\u001b[38;5;124mHola\u001b[39m\u001b[38;5;124m\"\u001b[39m \u001b[38;5;241m*\u001b[39m \u001b[38;5;241m3\u001b[39m)\n\u001b[1;32m----> 8\u001b[0m PRINT(\u001b[38;5;124m\"\u001b[39m\u001b[38;5;124mhola\u001b[39m\u001b[38;5;124m\"\u001b[39m)\n\u001b[0;32m      9\u001b[0m \u001b[38;5;28mprint\u001b[39m(hola)\n",
      "\u001b[1;31mNameError\u001b[0m: name 'PRINT' is not defined"
     ]
    }
   ],
   "source": [
    "print(\"Hola fundamentos\")\n",
    "print(2 + 3)\n",
    "print(\"2\" + \"3\")\n",
    "print(2 * (3+5))\n",
    "print(2* 3 + 5)\n",
    "print(3 * \"hola\")\n",
    "print(\"Hola\" * 3)\n",
    "PRINT(\"hola\")\n",
    "print(hola)\n"
   ]
  },
  {
   "cell_type": "markdown",
   "metadata": {},
   "source": [
    "a) Compare los resultados obtenidos de 2 y 3, de 4 y 5, de 6 y 7. \n",
    ">\n",
    "b) ¿Qué pasó en las consignas 8 y 9?\n"
   ]
  },
  {
   "cell_type": "markdown",
   "metadata": {},
   "source": []
  },
  {
   "cell_type": "markdown",
   "metadata": {},
   "source": [
    "Ejercicio 11: Ejecute las siguientes instrucciones:\n",
    ">\n",
    "10. “hola Fundamentos” \n",
    ">\n",
    "11. 2+3\n",
    "\n"
   ]
  },
  {
   "cell_type": "code",
   "execution_count": null,
   "metadata": {},
   "outputs": [],
   "source": []
  },
  {
   "cell_type": "markdown",
   "metadata": {},
   "source": [
    "a) ¿Pudo hacerlo?\n",
    ">\n",
    "b) Compare con el 1 y 2 del ejercicio anterior."
   ]
  }
 ],
 "metadata": {
  "kernelspec": {
   "display_name": "base",
   "language": "python",
   "name": "python3"
  },
  "language_info": {
   "codemirror_mode": {
    "name": "ipython",
    "version": 3
   },
   "file_extension": ".py",
   "mimetype": "text/x-python",
   "name": "python",
   "nbconvert_exporter": "python",
   "pygments_lexer": "ipython3",
   "version": "3.11.5"
  }
 },
 "nbformat": 4,
 "nbformat_minor": 2
}
