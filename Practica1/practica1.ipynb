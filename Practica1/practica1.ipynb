{
 "cells": [
  {
   "cell_type": "markdown",
   "metadata": {},
   "source": [
    "Ejercicio 10: Ejecute las siguientes instrucciones:\n",
    "\n",
    "1. print (“hola Fundamentos”)\n",
    "2. print (2 + 3)\n",
    "3. print (“2” + ”3”)\n",
    "4. print (2* (3+5))\n",
    "5. print (2 * 3 + 5)\n",
    "6. print (3 * ”Hola”)\n",
    "7. print (“Hola” * 3)\n",
    "8. PRINT (“hola”)\n",
    "9. print (hola)\n",
    "\n"
   ]
  },
  {
   "cell_type": "code",
   "execution_count": null,
   "metadata": {},
   "outputs": [],
   "source": []
  },
  {
   "cell_type": "markdown",
   "metadata": {},
   "source": [
    "a) Compare los resultados obtenidos de 2 y 3, de 4 y 5, de 6 y 7. \n",
    ">\n",
    "b) ¿Qué pasó en las consignas 8 y 9?\n"
   ]
  },
  {
   "cell_type": "markdown",
   "metadata": {},
   "source": []
  },
  {
   "cell_type": "markdown",
   "metadata": {},
   "source": []
  }
 ],
 "metadata": {
  "kernelspec": {
   "display_name": "base",
   "language": "python",
   "name": "python3"
  },
  "language_info": {
   "codemirror_mode": {
    "name": "ipython",
    "version": 3
   },
   "file_extension": ".py",
   "mimetype": "text/x-python",
   "name": "python",
   "nbconvert_exporter": "python",
   "pygments_lexer": "ipython3",
   "version": "3.11.5"
  }
 },
 "nbformat": 4,
 "nbformat_minor": 2
}
